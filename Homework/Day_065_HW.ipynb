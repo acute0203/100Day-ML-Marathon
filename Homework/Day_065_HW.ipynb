{
 "cells": [
  {
   "cell_type": "markdown",
   "metadata": {},
   "source": [
    "# 作業:\n",
    "嘗試調整參數:  \n",
    "sg:sg=1表示採用skip-gram,sg=0 表示採用cbow  \n",
    "window:能往左往右看幾個字的意思 "
   ]
  },
  {
   "cell_type": "code",
   "execution_count": 1,
   "metadata": {},
   "outputs": [],
   "source": [
    "import gensim, logging\n",
    "from gensim.models import word2vec"
   ]
  },
  {
   "cell_type": "code",
   "execution_count": 33,
   "metadata": {},
   "outputs": [
    {
     "name": "stderr",
     "output_type": "stream",
     "text": [
      "2019-03-07 19:16:19,403 : INFO : collecting all words and their counts\n",
      "2019-03-07 19:16:19,404 : INFO : PROGRESS: at sentence #0, processed 0 words, keeping 0 word types\n",
      "2019-03-07 19:16:19,404 : INFO : collected 3 word types from a corpus of 4 raw words and 2 sentences\n",
      "2019-03-07 19:16:19,405 : INFO : Loading a fresh vocabulary\n",
      "2019-03-07 19:16:19,406 : INFO : effective_min_count=1 retains 3 unique words (100% of original 3, drops 0)\n",
      "2019-03-07 19:16:19,407 : INFO : effective_min_count=1 leaves 4 word corpus (100% of original 4, drops 0)\n",
      "2019-03-07 19:16:19,408 : INFO : deleting the raw counts dictionary of 3 items\n",
      "2019-03-07 19:16:19,408 : INFO : sample=0.001 downsamples 3 most-common words\n",
      "2019-03-07 19:16:19,409 : INFO : downsampling leaves estimated 0 word corpus (5.7% of prior 4)\n",
      "2019-03-07 19:16:19,409 : INFO : estimated required memory for 3 words and 384 dimensions: 10716 bytes\n",
      "2019-03-07 19:16:19,410 : INFO : resetting layer weights\n",
      "2019-03-07 19:16:19,410 : INFO : training model with 4 workers on 3 vocabulary and 384 features, using sg=1 hs=0 sample=0.001 negative=5 window=3\n",
      "2019-03-07 19:16:19,413 : INFO : worker thread finished; awaiting finish of 3 more threads\n",
      "2019-03-07 19:16:19,414 : INFO : worker thread finished; awaiting finish of 2 more threads\n",
      "2019-03-07 19:16:19,414 : INFO : worker thread finished; awaiting finish of 1 more threads\n",
      "2019-03-07 19:16:19,415 : INFO : worker thread finished; awaiting finish of 0 more threads\n",
      "2019-03-07 19:16:19,416 : INFO : EPOCH - 1 : training on 4 raw words (0 effective words) took 0.0s, 0 effective words/s\n",
      "2019-03-07 19:16:19,419 : INFO : worker thread finished; awaiting finish of 3 more threads\n",
      "2019-03-07 19:16:19,419 : INFO : worker thread finished; awaiting finish of 2 more threads\n",
      "2019-03-07 19:16:19,420 : INFO : worker thread finished; awaiting finish of 1 more threads\n",
      "2019-03-07 19:16:19,421 : INFO : worker thread finished; awaiting finish of 0 more threads\n",
      "2019-03-07 19:16:19,421 : INFO : EPOCH - 2 : training on 4 raw words (0 effective words) took 0.0s, 0 effective words/s\n",
      "2019-03-07 19:16:19,424 : INFO : worker thread finished; awaiting finish of 3 more threads\n",
      "2019-03-07 19:16:19,425 : INFO : worker thread finished; awaiting finish of 2 more threads\n",
      "2019-03-07 19:16:19,426 : INFO : worker thread finished; awaiting finish of 1 more threads\n",
      "2019-03-07 19:16:19,426 : INFO : worker thread finished; awaiting finish of 0 more threads\n",
      "2019-03-07 19:16:19,427 : INFO : EPOCH - 3 : training on 4 raw words (1 effective words) took 0.0s, 362 effective words/s\n",
      "2019-03-07 19:16:19,429 : INFO : worker thread finished; awaiting finish of 3 more threads\n",
      "2019-03-07 19:16:19,430 : INFO : worker thread finished; awaiting finish of 2 more threads\n",
      "2019-03-07 19:16:19,431 : INFO : worker thread finished; awaiting finish of 1 more threads\n",
      "2019-03-07 19:16:19,431 : INFO : worker thread finished; awaiting finish of 0 more threads\n",
      "2019-03-07 19:16:19,432 : INFO : EPOCH - 4 : training on 4 raw words (1 effective words) took 0.0s, 378 effective words/s\n",
      "2019-03-07 19:16:19,434 : INFO : worker thread finished; awaiting finish of 3 more threads\n",
      "2019-03-07 19:16:19,435 : INFO : worker thread finished; awaiting finish of 2 more threads\n",
      "2019-03-07 19:16:19,436 : INFO : worker thread finished; awaiting finish of 1 more threads\n",
      "2019-03-07 19:16:19,436 : INFO : worker thread finished; awaiting finish of 0 more threads\n",
      "2019-03-07 19:16:19,437 : INFO : EPOCH - 5 : training on 4 raw words (0 effective words) took 0.0s, 0 effective words/s\n",
      "2019-03-07 19:16:19,438 : INFO : training on a 20 raw words (2 effective words) took 0.0s, 74 effective words/s\n",
      "2019-03-07 19:16:19,438 : WARNING : under 10 jobs per worker: consider setting a smaller `batch_words' for smoother alpha decay\n"
     ]
    }
   ],
   "source": [
    "sentences = [['I am a hero', 'sentence'], ['She is a teacher', 'sentence']] \n",
    "\n",
    "# train word2vec on the two sentences  \n",
    "logging.basicConfig(format='%(asctime)s : %(levelname)s : %(message)s', level=logging.INFO)  \n",
    "  \n",
    "# train word2vec on the two sentences  \n",
    "model = word2vec.Word2Vec(sentences, size=384, min_count=1, window=3, workers=4, sg=1)  \n",
    "\n",
    "# sg=0 表示COBW, sg=1 表示skip-gram"
   ]
  },
  {
   "cell_type": "code",
   "execution_count": 34,
   "metadata": {},
   "outputs": [
    {
     "name": "stdout",
     "output_type": "stream",
     "text": [
      "Word2Vec(vocab=3, size=384, alpha=0.025)\n"
     ]
    }
   ],
   "source": [
    "print(model)"
   ]
  },
  {
   "cell_type": "code",
   "execution_count": 35,
   "metadata": {},
   "outputs": [
    {
     "name": "stderr",
     "output_type": "stream",
     "text": [
      "/Library/Frameworks/Python.framework/Versions/3.6/lib/python3.6/site-packages/ipykernel_launcher.py:1: DeprecationWarning: Call to deprecated `similarity` (Method will be removed in 4.0.0, use self.wv.similarity() instead).\n",
      "  \"\"\"Entry point for launching an IPython kernel.\n"
     ]
    },
    {
     "data": {
      "text/plain": [
       "0.033647552"
      ]
     },
     "execution_count": 35,
     "metadata": {},
     "output_type": "execute_result"
    }
   ],
   "source": [
    "model.similarity('I am a hero','She is a teacher')"
   ]
  },
  {
   "cell_type": "code",
   "execution_count": 36,
   "metadata": {},
   "outputs": [
    {
     "name": "stderr",
     "output_type": "stream",
     "text": [
      "2019-03-07 19:16:28,407 : INFO : saving Word2Vec object under mymodel, separately None\n",
      "2019-03-07 19:16:28,409 : INFO : not storing attribute vectors_norm\n",
      "2019-03-07 19:16:28,410 : INFO : not storing attribute cum_table\n",
      "2019-03-07 19:16:28,412 : INFO : saved mymodel\n",
      "2019-03-07 19:16:28,413 : INFO : loading Word2Vec object from mymodel\n",
      "2019-03-07 19:16:28,414 : INFO : loading wv recursively from mymodel.wv.* with mmap=None\n",
      "2019-03-07 19:16:28,415 : INFO : setting ignored attribute vectors_norm to None\n",
      "2019-03-07 19:16:28,416 : INFO : loading vocabulary recursively from mymodel.vocabulary.* with mmap=None\n",
      "2019-03-07 19:16:28,416 : INFO : loading trainables recursively from mymodel.trainables.* with mmap=None\n",
      "2019-03-07 19:16:28,417 : INFO : setting ignored attribute cum_table to None\n",
      "2019-03-07 19:16:28,418 : INFO : loaded mymodel\n"
     ]
    }
   ],
   "source": [
    "model.save('mymodel')  \n",
    "new_model = gensim.models.Word2Vec.load('mymodel')  "
   ]
  },
  {
   "cell_type": "code",
   "execution_count": 41,
   "metadata": {},
   "outputs": [
    {
     "name": "stderr",
     "output_type": "stream",
     "text": [
      "2019-03-07 19:18:17,882 : INFO : collecting all words and their counts\n",
      "2019-03-07 19:18:17,883 : INFO : PROGRESS: at sentence #0, processed 0 words, keeping 0 word types\n",
      "2019-03-07 19:18:17,884 : INFO : collected 3 word types from a corpus of 4 raw words and 2 sentences\n",
      "2019-03-07 19:18:17,885 : INFO : Loading a fresh vocabulary\n",
      "2019-03-07 19:18:17,886 : INFO : effective_min_count=1 retains 3 unique words (100% of original 3, drops 0)\n",
      "2019-03-07 19:18:17,886 : INFO : effective_min_count=1 leaves 4 word corpus (100% of original 4, drops 0)\n",
      "2019-03-07 19:18:17,887 : INFO : deleting the raw counts dictionary of 3 items\n",
      "2019-03-07 19:18:17,888 : INFO : sample=0.001 downsamples 3 most-common words\n",
      "2019-03-07 19:18:17,888 : INFO : downsampling leaves estimated 0 word corpus (5.7% of prior 4)\n",
      "2019-03-07 19:18:17,889 : INFO : estimated required memory for 3 words and 256 dimensions: 7644 bytes\n",
      "2019-03-07 19:18:17,890 : INFO : resetting layer weights\n",
      "2019-03-07 19:18:17,891 : INFO : training model with 4 workers on 3 vocabulary and 256 features, using sg=0 hs=0 sample=0.001 negative=5 window=5\n",
      "2019-03-07 19:18:17,894 : INFO : worker thread finished; awaiting finish of 3 more threads\n",
      "2019-03-07 19:18:17,895 : INFO : worker thread finished; awaiting finish of 2 more threads\n",
      "2019-03-07 19:18:17,896 : INFO : worker thread finished; awaiting finish of 1 more threads\n",
      "2019-03-07 19:18:17,896 : INFO : worker thread finished; awaiting finish of 0 more threads\n",
      "2019-03-07 19:18:17,897 : INFO : EPOCH - 1 : training on 4 raw words (0 effective words) took 0.0s, 0 effective words/s\n",
      "2019-03-07 19:18:17,902 : INFO : worker thread finished; awaiting finish of 3 more threads\n",
      "2019-03-07 19:18:17,903 : INFO : worker thread finished; awaiting finish of 2 more threads\n",
      "2019-03-07 19:18:17,904 : INFO : worker thread finished; awaiting finish of 1 more threads\n",
      "2019-03-07 19:18:17,905 : INFO : worker thread finished; awaiting finish of 0 more threads\n",
      "2019-03-07 19:18:17,905 : INFO : EPOCH - 2 : training on 4 raw words (0 effective words) took 0.0s, 0 effective words/s\n",
      "2019-03-07 19:18:17,909 : INFO : worker thread finished; awaiting finish of 3 more threads\n",
      "2019-03-07 19:18:17,910 : INFO : worker thread finished; awaiting finish of 2 more threads\n",
      "2019-03-07 19:18:17,911 : INFO : worker thread finished; awaiting finish of 1 more threads\n",
      "2019-03-07 19:18:17,912 : INFO : worker thread finished; awaiting finish of 0 more threads\n",
      "2019-03-07 19:18:17,912 : INFO : EPOCH - 3 : training on 4 raw words (1 effective words) took 0.0s, 281 effective words/s\n",
      "2019-03-07 19:18:17,917 : INFO : worker thread finished; awaiting finish of 3 more threads\n",
      "2019-03-07 19:18:17,918 : INFO : worker thread finished; awaiting finish of 2 more threads\n",
      "2019-03-07 19:18:17,919 : INFO : worker thread finished; awaiting finish of 1 more threads\n",
      "2019-03-07 19:18:17,920 : INFO : worker thread finished; awaiting finish of 0 more threads\n",
      "2019-03-07 19:18:17,920 : INFO : EPOCH - 4 : training on 4 raw words (0 effective words) took 0.0s, 0 effective words/s\n",
      "2019-03-07 19:18:17,923 : INFO : worker thread finished; awaiting finish of 3 more threads\n",
      "2019-03-07 19:18:17,924 : INFO : worker thread finished; awaiting finish of 2 more threads\n",
      "2019-03-07 19:18:17,925 : INFO : worker thread finished; awaiting finish of 1 more threads\n",
      "2019-03-07 19:18:17,926 : INFO : worker thread finished; awaiting finish of 0 more threads\n",
      "2019-03-07 19:18:17,926 : INFO : EPOCH - 5 : training on 4 raw words (0 effective words) took 0.0s, 0 effective words/s\n",
      "2019-03-07 19:18:17,927 : INFO : training on a 20 raw words (1 effective words) took 0.0s, 28 effective words/s\n",
      "2019-03-07 19:18:17,928 : WARNING : under 10 jobs per worker: consider setting a smaller `batch_words' for smoother alpha decay\n",
      "/Library/Frameworks/Python.framework/Versions/3.6/lib/python3.6/site-packages/ipykernel_launcher.py:3: DeprecationWarning: Call to deprecated `similarity` (Method will be removed in 4.0.0, use self.wv.similarity() instead).\n",
      "  This is separate from the ipykernel package so we can avoid doing imports until\n"
     ]
    },
    {
     "data": {
      "text/plain": [
       "0.034743667"
      ]
     },
     "execution_count": 41,
     "metadata": {},
     "output_type": "execute_result"
    }
   ],
   "source": [
    "# train word2vec on the two sentences  \n",
    "model = word2vec.Word2Vec(sentences, size=256, min_count=1, window=5, workers=4, sg=0)  \n",
    "model.similarity('I am a hero','She is a teacher')"
   ]
  },
  {
   "cell_type": "code",
   "execution_count": null,
   "metadata": {},
   "outputs": [],
   "source": []
  }
 ],
 "metadata": {
  "kernelspec": {
   "display_name": "Python 3",
   "language": "python",
   "name": "python3"
  },
  "language_info": {
   "codemirror_mode": {
    "name": "ipython",
    "version": 3
   },
   "file_extension": ".py",
   "mimetype": "text/x-python",
   "name": "python",
   "nbconvert_exporter": "python",
   "pygments_lexer": "ipython3",
   "version": "3.6.7rc2"
  }
 },
 "nbformat": 4,
 "nbformat_minor": 2
}
