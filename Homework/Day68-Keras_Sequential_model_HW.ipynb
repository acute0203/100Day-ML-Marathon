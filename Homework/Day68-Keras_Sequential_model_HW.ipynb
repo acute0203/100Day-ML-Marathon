{
 "cells": [
  {
   "cell_type": "code",
   "execution_count": 1,
   "metadata": {},
   "outputs": [
    {
     "name": "stderr",
     "output_type": "stream",
     "text": [
      "Using TensorFlow backend.\n"
     ]
    }
   ],
   "source": [
    "# 載入必須使用的 Library\n",
    "import keras\n",
    "from keras.datasets import cifar10\n",
    "from keras.models import Sequential, load_model\n",
    "from keras.layers import Dense, Dropout, Activation, Flatten\n",
    "from keras.layers import Conv2D, MaxPooling2D\n"
   ]
  },
  {
   "cell_type": "markdown",
   "metadata": {},
   "source": [
    "# 作業:\n",
    "請修改input shape: (Conv2D(64, (3, 3))的設定, 新增一層 Dense 並觀看 model.summary 的輸出"
   ]
  },
  {
   "cell_type": "code",
   "execution_count": 2,
   "metadata": {},
   "outputs": [],
   "source": [
    "batch_size = 16\n",
    "num_classes = 10\n",
    "epochs = 10\n",
    "\n",
    "# The data, shuffled and split between train and test sets:\n",
    "(x_train, y_train), (x_test, y_test) = cifar10.load_data()"
   ]
  },
  {
   "cell_type": "code",
   "execution_count": 3,
   "metadata": {},
   "outputs": [],
   "source": [
    " #Convert class vectors to binary class matrices.\n",
    "y_train = keras.utils.to_categorical(y_train, num_classes)\n",
    "y_test = keras.utils.to_categorical(y_test, num_classes)\n",
    "\n",
    "x_train = x_train.astype('float32') / 255.0\n",
    "x_test = x_test.astype('float32') / 255.0\n"
   ]
  },
  {
   "cell_type": "code",
   "execution_count": 4,
   "metadata": {},
   "outputs": [],
   "source": [
    "# build our CNN model, 多加幾層\n",
    "model = Sequential()\n",
    "model.add(Conv2D(64, (3, 3), padding='same',\n",
    "                 input_shape=x_train.shape[1:]))\n",
    "model.add(Flatten())\n",
    "model.add(Dense(256))\n",
    "model.add(Activation('relu'))\n",
    "model.add(Dropout(0.5))\n",
    "model.add(Dense(num_classes))\n",
    "model.add(Activation('softmax'))\n"
   ]
  },
  {
   "cell_type": "code",
   "execution_count": 5,
   "metadata": {},
   "outputs": [
    {
     "name": "stdout",
     "output_type": "stream",
     "text": [
      "Train on 40000 samples, validate on 10000 samples\n",
      "Epoch 1/10\n",
      "40000/40000 [==============================] - 81s 2ms/step - loss: 2.1436 - acc: 0.2605 - val_loss: 1.7885 - val_acc: 0.3782\n",
      "Epoch 2/10\n",
      "40000/40000 [==============================] - 79s 2ms/step - loss: 1.8566 - acc: 0.3352 - val_loss: 1.7295 - val_acc: 0.4032\n",
      "Epoch 3/10\n",
      "40000/40000 [==============================] - 82s 2ms/step - loss: 1.7859 - acc: 0.3664 - val_loss: 1.6670 - val_acc: 0.4240\n",
      "Epoch 4/10\n",
      "40000/40000 [==============================] - 81s 2ms/step - loss: 1.7319 - acc: 0.3852 - val_loss: 1.6441 - val_acc: 0.4246\n",
      "Epoch 5/10\n",
      "40000/40000 [==============================] - 80s 2ms/step - loss: 1.6921 - acc: 0.3962 - val_loss: 1.6354 - val_acc: 0.4361\n",
      "Epoch 6/10\n",
      "40000/40000 [==============================] - 78s 2ms/step - loss: 1.6503 - acc: 0.4128 - val_loss: 1.6042 - val_acc: 0.4477\n",
      "Epoch 7/10\n",
      "40000/40000 [==============================] - 78s 2ms/step - loss: 1.6174 - acc: 0.4232 - val_loss: 1.5755 - val_acc: 0.4569\n",
      "Epoch 8/10\n",
      "40000/40000 [==============================] - 78s 2ms/step - loss: 1.5808 - acc: 0.4380 - val_loss: 1.5543 - val_acc: 0.4629\n",
      "Epoch 9/10\n",
      "40000/40000 [==============================] - 78s 2ms/step - loss: 1.5468 - acc: 0.4496 - val_loss: 1.5595 - val_acc: 0.4611\n",
      "Epoch 10/10\n",
      "40000/40000 [==============================] - 78s 2ms/step - loss: 1.5119 - acc: 0.4565 - val_loss: 1.5418 - val_acc: 0.4748\n",
      "10000/10000 [==============================] - 4s 391us/step\n",
      "Test accuracy: 0.4714\n"
     ]
    }
   ],
   "source": [
    "# initiate Adam optimizer\n",
    "opt = keras.optimizers.Adam()\n",
    "\n",
    "# Let's train the model using Adam\n",
    "model.compile(loss='categorical_crossentropy',optimizer=opt,metrics=['accuracy'])\n",
    "\n",
    "model_history = model.fit(x_train, y_train, validation_split=0.2, epochs=10, batch_size=128, verbose=1)  \n",
    "\n",
    "# Score trained model.\n",
    "scores = model.evaluate(x_test, y_test, verbose=1)\n",
    "print('Test accuracy:', scores[1])"
   ]
  },
  {
   "cell_type": "code",
   "execution_count": null,
   "metadata": {},
   "outputs": [],
   "source": []
  }
 ],
 "metadata": {
  "kernelspec": {
   "display_name": "Python 3",
   "language": "python",
   "name": "python3"
  },
  "language_info": {
   "codemirror_mode": {
    "name": "ipython",
    "version": 3
   },
   "file_extension": ".py",
   "mimetype": "text/x-python",
   "name": "python",
   "nbconvert_exporter": "python",
   "pygments_lexer": "ipython3",
   "version": "3.6.7rc2"
  }
 },
 "nbformat": 4,
 "nbformat_minor": 2
}
