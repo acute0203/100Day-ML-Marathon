{
 "cells": [
  {
   "cell_type": "markdown",
   "metadata": {},
   "source": [
    "## Work\n",
    "1. 試改變 monitor \"Validation Accuracy\" 並比較結果\n",
    "2. 調整 earlystop 的等待次數至 10, 25 並比較結果"
   ]
  },
  {
   "cell_type": "code",
   "execution_count": 1,
   "metadata": {},
   "outputs": [
    {
     "name": "stderr",
     "output_type": "stream",
     "text": [
      "Using TensorFlow backend.\n"
     ]
    }
   ],
   "source": [
    "import os\n",
    "import keras\n",
    "import matplotlib.pyplot as plt\n",
    "%matplotlib inline\n",
    "\n",
    "\n",
    "# Disable GPU\n",
    "#os.environ[\"CUDA_VISIBLE_DEVICES\"] = \"\""
   ]
  },
  {
   "cell_type": "code",
   "execution_count": 2,
   "metadata": {},
   "outputs": [],
   "source": [
    "train, test = keras.datasets.cifar10.load_data()"
   ]
  },
  {
   "cell_type": "code",
   "execution_count": 3,
   "metadata": {},
   "outputs": [],
   "source": [
    "## 資料前處理\n",
    "def preproc_x(x, flatten=True):\n",
    "    x = x / 255.\n",
    "    if flatten:\n",
    "        x = x.reshape((len(x), -1))\n",
    "    return x\n",
    "\n",
    "def preproc_y(y, num_classes=10):\n",
    "    if y.shape[-1] == 1:\n",
    "        y = keras.utils.to_categorical(y, num_classes)\n",
    "    return y    "
   ]
  },
  {
   "cell_type": "code",
   "execution_count": 4,
   "metadata": {},
   "outputs": [],
   "source": [
    "x_train, y_train = train\n",
    "x_test, y_test = test\n",
    "\n",
    "# Preproc the inputs\n",
    "x_train = preproc_x(x_train)\n",
    "x_test = preproc_x(x_test)\n",
    "\n",
    "# Preprc the outputs\n",
    "y_train = preproc_y(y_train)\n",
    "y_test = preproc_y(y_test)"
   ]
  },
  {
   "cell_type": "code",
   "execution_count": 5,
   "metadata": {},
   "outputs": [],
   "source": [
    "from keras.layers import BatchNormalization\n",
    "def build_mlp(input_shape, output_units=10, num_neurons=[512, 256, 128]):\n",
    "    input_layer = keras.layers.Input(input_shape)\n",
    "    \n",
    "    for i, n_units in enumerate(num_neurons):\n",
    "        if i == 0:\n",
    "            x = keras.layers.Dense(units=n_units, \n",
    "                                   activation=\"relu\", \n",
    "                                   name=\"hidden_layer\"+str(i+1))(input_layer)\n",
    "            x = BatchNormalization()(x)\n",
    "        else:\n",
    "            x = keras.layers.Dense(units=n_units, \n",
    "                                   activation=\"relu\", \n",
    "                                   name=\"hidden_layer\"+str(i+1))(x)\n",
    "            x = BatchNormalization()(x)\n",
    "    \n",
    "    out = keras.layers.Dense(units=output_units, activation=\"softmax\", name=\"output\")(x)\n",
    "    \n",
    "    model = keras.models.Model(inputs=[input_layer], outputs=[out])\n",
    "    return model"
   ]
  },
  {
   "cell_type": "code",
   "execution_count": 6,
   "metadata": {},
   "outputs": [],
   "source": [
    "## 超參數設定\n",
    "LEARNING_RATE = 1e-3\n",
    "EPOCHS = 1000\n",
    "BATCH_SIZE = 1024\n",
    "MOMENTUM = 0.95"
   ]
  },
  {
   "cell_type": "code",
   "execution_count": 7,
   "metadata": {},
   "outputs": [
    {
     "name": "stderr",
     "output_type": "stream",
     "text": [
      "WARNING: Logging before flag parsing goes to stderr.\n",
      "W0401 15:01:59.243346 139900717266752 deprecation.py:506] From /home/dcube/.local/lib/python3.6/site-packages/tensorflow/python/training/moving_averages.py:210: calling Zeros.__init__ (from tensorflow.python.ops.init_ops) with dtype is deprecated and will be removed in a future version.\n",
      "Instructions for updating:\n",
      "Call initializer instance with the dtype argument instead of passing it to the constructor\n"
     ]
    },
    {
     "name": "stdout",
     "output_type": "stream",
     "text": [
      "_________________________________________________________________\n",
      "Layer (type)                 Output Shape              Param #   \n",
      "=================================================================\n",
      "input_1 (InputLayer)         (None, 3072)              0         \n",
      "_________________________________________________________________\n",
      "hidden_layer1 (Dense)        (None, 512)               1573376   \n",
      "_________________________________________________________________\n",
      "batch_normalization_1 (Batch (None, 512)               2048      \n",
      "_________________________________________________________________\n",
      "hidden_layer2 (Dense)        (None, 256)               131328    \n",
      "_________________________________________________________________\n",
      "batch_normalization_2 (Batch (None, 256)               1024      \n",
      "_________________________________________________________________\n",
      "hidden_layer3 (Dense)        (None, 128)               32896     \n",
      "_________________________________________________________________\n",
      "batch_normalization_3 (Batch (None, 128)               512       \n",
      "_________________________________________________________________\n",
      "output (Dense)               (None, 10)                1290      \n",
      "=================================================================\n",
      "Total params: 1,742,474\n",
      "Trainable params: 1,740,682\n",
      "Non-trainable params: 1,792\n",
      "_________________________________________________________________\n",
      "Train on 50000 samples, validate on 10000 samples\n",
      "Epoch 1/1000\n",
      "50000/50000 [==============================] - 2s 40us/step - loss: 2.2044 - acc: 0.2737 - val_loss: 2.0274 - val_acc: 0.3302\n",
      "Epoch 2/1000\n",
      "50000/50000 [==============================] - 1s 14us/step - loss: 1.7485 - acc: 0.3880 - val_loss: 1.7870 - val_acc: 0.3821\n",
      "Epoch 3/1000\n",
      "50000/50000 [==============================] - 1s 14us/step - loss: 1.6190 - acc: 0.4340 - val_loss: 1.6949 - val_acc: 0.4043\n",
      "Epoch 4/1000\n",
      "50000/50000 [==============================] - 1s 14us/step - loss: 1.5446 - acc: 0.4594 - val_loss: 1.6431 - val_acc: 0.4267\n",
      "Epoch 5/1000\n",
      "50000/50000 [==============================] - 1s 14us/step - loss: 1.4913 - acc: 0.4790 - val_loss: 1.6016 - val_acc: 0.4401\n",
      "Epoch 6/1000\n",
      "50000/50000 [==============================] - 1s 14us/step - loss: 1.4452 - acc: 0.4953 - val_loss: 1.5603 - val_acc: 0.4522\n",
      "Epoch 7/1000\n",
      "50000/50000 [==============================] - 1s 14us/step - loss: 1.4056 - acc: 0.5114 - val_loss: 1.5395 - val_acc: 0.4611\n",
      "Epoch 8/1000\n",
      "50000/50000 [==============================] - 1s 14us/step - loss: 1.3701 - acc: 0.5236 - val_loss: 1.5236 - val_acc: 0.4657\n",
      "Epoch 9/1000\n",
      "50000/50000 [==============================] - 1s 14us/step - loss: 1.3379 - acc: 0.5366 - val_loss: 1.5032 - val_acc: 0.4720\n",
      "Epoch 10/1000\n",
      "50000/50000 [==============================] - 1s 14us/step - loss: 1.3081 - acc: 0.5495 - val_loss: 1.5065 - val_acc: 0.4714\n",
      "Epoch 11/1000\n",
      "50000/50000 [==============================] - 1s 14us/step - loss: 1.2792 - acc: 0.5578 - val_loss: 1.4952 - val_acc: 0.4753\n",
      "Epoch 12/1000\n",
      "50000/50000 [==============================] - 1s 15us/step - loss: 1.2536 - acc: 0.5668 - val_loss: 1.4882 - val_acc: 0.4846\n",
      "Epoch 13/1000\n",
      "50000/50000 [==============================] - 1s 14us/step - loss: 1.2268 - acc: 0.5771 - val_loss: 1.4764 - val_acc: 0.4849\n",
      "Epoch 14/1000\n",
      "50000/50000 [==============================] - 1s 15us/step - loss: 1.2012 - acc: 0.5874 - val_loss: 1.4711 - val_acc: 0.4832\n",
      "Epoch 15/1000\n",
      "50000/50000 [==============================] - 1s 14us/step - loss: 1.1782 - acc: 0.5950 - val_loss: 1.4681 - val_acc: 0.4840\n",
      "Epoch 16/1000\n",
      "50000/50000 [==============================] - 1s 14us/step - loss: 1.1552 - acc: 0.6045 - val_loss: 1.4665 - val_acc: 0.4898\n",
      "Epoch 17/1000\n",
      "50000/50000 [==============================] - 1s 14us/step - loss: 1.1304 - acc: 0.6133 - val_loss: 1.4686 - val_acc: 0.4890\n",
      "Epoch 18/1000\n",
      "50000/50000 [==============================] - 1s 14us/step - loss: 1.1081 - acc: 0.6218 - val_loss: 1.4547 - val_acc: 0.4931\n",
      "Epoch 19/1000\n",
      "50000/50000 [==============================] - 1s 14us/step - loss: 1.0842 - acc: 0.6329 - val_loss: 1.4669 - val_acc: 0.4876\n",
      "Epoch 20/1000\n",
      "50000/50000 [==============================] - 1s 14us/step - loss: 1.0607 - acc: 0.6412 - val_loss: 1.4558 - val_acc: 0.4959\n",
      "Epoch 21/1000\n",
      "50000/50000 [==============================] - 1s 15us/step - loss: 1.0388 - acc: 0.6480 - val_loss: 1.4690 - val_acc: 0.4924\n",
      "Epoch 22/1000\n",
      "50000/50000 [==============================] - 1s 14us/step - loss: 1.0193 - acc: 0.6562 - val_loss: 1.4668 - val_acc: 0.4933\n",
      "Epoch 23/1000\n",
      "50000/50000 [==============================] - 1s 14us/step - loss: 0.9973 - acc: 0.6642 - val_loss: 1.4843 - val_acc: 0.4903\n",
      "Epoch 24/1000\n",
      "50000/50000 [==============================] - 1s 14us/step - loss: 0.9777 - acc: 0.6733 - val_loss: 1.4643 - val_acc: 0.4979\n",
      "Epoch 25/1000\n",
      "50000/50000 [==============================] - 1s 15us/step - loss: 0.9549 - acc: 0.6824 - val_loss: 1.4655 - val_acc: 0.4977\n",
      "Epoch 26/1000\n",
      "50000/50000 [==============================] - 1s 14us/step - loss: 0.9344 - acc: 0.6890 - val_loss: 1.4827 - val_acc: 0.4964\n",
      "Epoch 27/1000\n",
      "50000/50000 [==============================] - 1s 14us/step - loss: 0.9129 - acc: 0.6971 - val_loss: 1.4760 - val_acc: 0.4968\n",
      "Epoch 28/1000\n",
      "50000/50000 [==============================] - 1s 14us/step - loss: 0.8937 - acc: 0.7039 - val_loss: 1.4813 - val_acc: 0.4959\n",
      "Epoch 29/1000\n",
      "50000/50000 [==============================] - 1s 14us/step - loss: 0.8730 - acc: 0.7130 - val_loss: 1.4791 - val_acc: 0.4927\n",
      "Epoch 30/1000\n",
      "50000/50000 [==============================] - 1s 14us/step - loss: 0.8537 - acc: 0.7207 - val_loss: 1.4945 - val_acc: 0.4905\n",
      "Epoch 31/1000\n",
      "50000/50000 [==============================] - 1s 14us/step - loss: 0.8342 - acc: 0.7288 - val_loss: 1.4946 - val_acc: 0.4973\n",
      "Epoch 32/1000\n",
      "50000/50000 [==============================] - 1s 14us/step - loss: 0.8130 - acc: 0.7353 - val_loss: 1.4989 - val_acc: 0.4965\n",
      "Epoch 33/1000\n",
      "50000/50000 [==============================] - 1s 14us/step - loss: 0.7923 - acc: 0.7440 - val_loss: 1.5151 - val_acc: 0.4970\n",
      "Epoch 34/1000\n",
      "50000/50000 [==============================] - 1s 14us/step - loss: 0.7756 - acc: 0.7512 - val_loss: 1.5176 - val_acc: 0.4927\n",
      "Epoch 35/1000\n",
      "50000/50000 [==============================] - 1s 14us/step - loss: 0.7551 - acc: 0.7598 - val_loss: 1.5359 - val_acc: 0.4962\n",
      "Epoch 36/1000\n",
      "50000/50000 [==============================] - 1s 15us/step - loss: 0.7365 - acc: 0.7667 - val_loss: 1.5436 - val_acc: 0.4934\n",
      "Epoch 37/1000\n",
      "50000/50000 [==============================] - 1s 14us/step - loss: 0.7167 - acc: 0.7746 - val_loss: 1.5554 - val_acc: 0.4820\n",
      "Epoch 38/1000\n",
      "50000/50000 [==============================] - 1s 14us/step - loss: 0.6996 - acc: 0.7814 - val_loss: 1.5548 - val_acc: 0.4944\n",
      "Epoch 39/1000\n",
      "50000/50000 [==============================] - 1s 14us/step - loss: 0.6831 - acc: 0.7881 - val_loss: 1.5583 - val_acc: 0.4926\n",
      "Epoch 40/1000\n",
      "50000/50000 [==============================] - 1s 14us/step - loss: 0.6635 - acc: 0.7964 - val_loss: 1.5821 - val_acc: 0.4915\n",
      "Epoch 41/1000\n",
      "50000/50000 [==============================] - 1s 14us/step - loss: 0.6441 - acc: 0.8035 - val_loss: 1.5866 - val_acc: 0.4926\n",
      "Epoch 42/1000\n",
      "50000/50000 [==============================] - 1s 14us/step - loss: 0.6259 - acc: 0.8111 - val_loss: 1.6031 - val_acc: 0.4931\n",
      "Epoch 43/1000\n",
      "50000/50000 [==============================] - 1s 14us/step - loss: 0.6085 - acc: 0.8171 - val_loss: 1.6023 - val_acc: 0.4886\n",
      "Epoch 44/1000\n",
      "50000/50000 [==============================] - 1s 14us/step - loss: 0.5920 - acc: 0.8252 - val_loss: 1.6237 - val_acc: 0.4896\n",
      "Epoch 45/1000\n",
      "50000/50000 [==============================] - 1s 14us/step - loss: 0.5721 - acc: 0.8329 - val_loss: 1.6217 - val_acc: 0.4908\n",
      "Epoch 46/1000\n",
      "50000/50000 [==============================] - 1s 14us/step - loss: 0.5579 - acc: 0.8372 - val_loss: 1.6419 - val_acc: 0.4864\n",
      "Epoch 47/1000\n",
      "50000/50000 [==============================] - 1s 14us/step - loss: 0.5386 - acc: 0.8456 - val_loss: 1.6477 - val_acc: 0.4896\n",
      "Epoch 48/1000\n",
      "50000/50000 [==============================] - 1s 14us/step - loss: 0.5237 - acc: 0.8513 - val_loss: 1.6691 - val_acc: 0.4875\n",
      "Epoch 49/1000\n"
     ]
    },
    {
     "name": "stdout",
     "output_type": "stream",
     "text": [
      "50000/50000 [==============================] - 1s 14us/step - loss: 0.5049 - acc: 0.8590 - val_loss: 1.6704 - val_acc: 0.4924\n",
      "Epoch 00049: early stopping\n"
     ]
    }
   ],
   "source": [
    "# 載入 Callbacks\n",
    "\"\"\"\n",
    "Earlystop setting\n",
    "\"\"\"\n",
    "# 載入 Callbacks\n",
    "from keras.callbacks import EarlyStopping\n",
    "\n",
    "earlystop = EarlyStopping(monitor=\"val_acc\", \n",
    "                          patience=25, \n",
    "                          verbose=1\n",
    "                          )\n",
    "\"\"\"\n",
    "Your Training loop and Plot the results\n",
    "\"\"\"\n",
    "model = build_mlp(input_shape=x_train.shape[1:])\n",
    "model.summary()\n",
    "optimizer = keras.optimizers.SGD(lr=LEARNING_RATE, nesterov=True, momentum=MOMENTUM)\n",
    "model.compile(loss=\"categorical_crossentropy\", metrics=[\"accuracy\"], optimizer=optimizer)\n",
    "\n",
    "model.fit(x_train, y_train, \n",
    "          epochs=EPOCHS, \n",
    "          batch_size=BATCH_SIZE, \n",
    "          validation_data=(x_test, y_test), \n",
    "          shuffle=True,\n",
    "          callbacks=[earlystop]\n",
    "         )\n",
    "\n",
    "# Collect results\n",
    "train_loss = model.history.history[\"loss\"]\n",
    "valid_loss = model.history.history[\"val_loss\"]\n",
    "train_acc = model.history.history[\"acc\"]\n",
    "valid_acc = model.history.history[\"val_acc\"]"
   ]
  },
  {
   "cell_type": "code",
   "execution_count": 8,
   "metadata": {},
   "outputs": [
    {
     "data": {
      "image/png": "[encoded data removed]",
      "text/plain": [
       "<Figure size 432x288 with 1 Axes>"
      ]
     },
     "metadata": {
      "needs_background": "light"
     },
     "output_type": "display_data"
    },
    {
     "data": {
      "image/png": "[encoded data removed]",
      "text/plain": [
       "<Figure size 432x288 with 1 Axes>"
      ]
     },
     "metadata": {
      "needs_background": "light"
     },
     "output_type": "display_data"
    }
   ],
   "source": [
    "import matplotlib.pyplot as plt\n",
    "%matplotlib inline\n",
    "\n",
    "plt.plot(range(len(train_loss)), train_loss, label=\"train loss\")\n",
    "plt.plot(range(len(valid_loss)), valid_loss, label=\"valid loss\")\n",
    "plt.legend()\n",
    "plt.title(\"Loss\")\n",
    "plt.show()\n",
    "\n",
    "plt.plot(range(len(train_acc)), train_acc, label=\"train accuracy\")\n",
    "plt.plot(range(len(valid_acc)), valid_acc, label=\"valid accuracy\")\n",
    "plt.legend()\n",
    "plt.title(\"Accuracy\")\n",
    "plt.show()"
   ]
  }
 ],
 "metadata": {
  "kernelspec": {
   "display_name": "Python 3",
   "language": "python",
   "name": "python3"
  },
  "language_info": {
   "codemirror_mode": {
    "name": "ipython",
    "version": 3
   },
   "file_extension": ".py",
   "mimetype": "text/x-python",
   "name": "python",
   "nbconvert_exporter": "python",
   "pygments_lexer": "ipython3",
   "version": "3.6.7"
  }
 },
 "nbformat": 4,
 "nbformat_minor": 2
}
