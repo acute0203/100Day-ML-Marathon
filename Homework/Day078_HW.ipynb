{
 "cells": [
  {
   "cell_type": "markdown",
   "metadata": {},
   "source": [
    "## Work\n",
    "1. 請嘗試將 preproc_x 替換成以每筆資料的 min/max 進行標準化至 -1 ~ 1 間，再進行訓練\n",
    "2. 請嘗試將 mlp 疊更深 (e.g 5~10 層)，進行訓練後觀察 learning curve 的走勢\n",
    "3. (optional) 請改用 GPU 進行訓練 (如果你有 GPU 的話)，比較使用 CPU 與 GPU 的訓練速度"
   ]
  },
  {
   "cell_type": "code",
   "execution_count": 1,
   "metadata": {},
   "outputs": [
    {
     "data": {
      "text/plain": [
       "'\\nYour code here\\n'"
      ]
     },
     "execution_count": 1,
     "metadata": {},
     "output_type": "execute_result"
    }
   ],
   "source": [
    "## 確認硬體資源\n",
    "\"\"\"\n",
    "Your code here\n",
    "\"\"\"\n"
   ]
  },
  {
   "cell_type": "code",
   "execution_count": 2,
   "metadata": {},
   "outputs": [
    {
     "name": "stderr",
     "output_type": "stream",
     "text": [
      "Using TensorFlow backend.\n"
     ]
    }
   ],
   "source": [
    "import os\n",
    "import keras\n",
    "\n",
    "# Try to enable GPU (optional)\n"
   ]
  },
  {
   "cell_type": "code",
   "execution_count": 3,
   "metadata": {},
   "outputs": [],
   "source": [
    "train, test = keras.datasets.cifar10.load_data()"
   ]
  },
  {
   "cell_type": "code",
   "execution_count": 4,
   "metadata": {},
   "outputs": [],
   "source": [
    "## 資料前處理\n",
    "\"\"\"\n",
    "Your code here\n",
    "\"\"\"\n",
    "def preproc_x(x, flatten=True):\n",
    "    x = (x - x.mean())/(x.max() - x.min())\n",
    "    if flatten:\n",
    "        x = x.reshape((len(x), -1))\n",
    "    return x\n",
    "\n",
    "def preproc_y(y, num_classes=10):\n",
    "    if y.shape[-1] == 1:\n",
    "        y = keras.utils.to_categorical(y, num_classes)\n",
    "    return y    "
   ]
  },
  {
   "cell_type": "code",
   "execution_count": 5,
   "metadata": {},
   "outputs": [],
   "source": [
    "x_train, y_train = train\n",
    "x_test, y_test = test\n",
    "\n",
    "# Preproc the inputs\n",
    "x_train = preproc_x(x_train)\n",
    "x_test = preproc_x(x_test)\n",
    "\n",
    "# Preprc the outputs\n",
    "y_train = preproc_y(y_train)\n",
    "y_test = preproc_y(y_test)"
   ]
  },
  {
   "cell_type": "code",
   "execution_count": 6,
   "metadata": {},
   "outputs": [
    {
     "data": {
      "text/plain": [
       "array([[-0.24199045, -0.23022575, -0.22630418, ...,  0.00898994,\n",
       "        -0.11257869, -0.19101006],\n",
       "       [ 0.13055857,  0.22075465,  0.25997033, ...,  0.08742131,\n",
       "         0.04820563,  0.09134288],\n",
       "       [ 0.526637  ,  0.526637  ,  0.526637  , ..., -0.15963751,\n",
       "        -0.1361081 , -0.14395124],\n",
       "       ...,\n",
       "       [-0.3361081 ,  0.22467622,  0.44820563, ..., -0.42630418,\n",
       "        -0.35179437, -0.27728457],\n",
       "       [ 0.26781347,  0.35408798,  0.46781347, ...,  0.29134288,\n",
       "         0.27173504,  0.19722523],\n",
       "       [ 0.42467622,  0.42467622,  0.4638919 , ...,  0.16585269,\n",
       "         0.16585269,  0.15800955]])"
      ]
     },
     "execution_count": 6,
     "metadata": {},
     "output_type": "execute_result"
    }
   ],
   "source": [
    "x_train"
   ]
  },
  {
   "cell_type": "code",
   "execution_count": 7,
   "metadata": {},
   "outputs": [
    {
     "name": "stdout",
     "output_type": "stream",
     "text": [
      "_________________________________________________________________\n",
      "Layer (type)                 Output Shape              Param #   \n",
      "=================================================================\n",
      "input_1 (InputLayer)         (None, 3072)              0         \n",
      "_________________________________________________________________\n",
      "hidden_layer1 (Dense)        (None, 1024)              3146752   \n",
      "_________________________________________________________________\n",
      "hidden_layer2 (Dense)        (None, 512)               524800    \n",
      "_________________________________________________________________\n",
      "hidden_layer3 (Dense)        (None, 256)               131328    \n",
      "_________________________________________________________________\n",
      "hidden_layer4 (Dense)        (None, 128)               32896     \n",
      "_________________________________________________________________\n",
      "hidden_layer5 (Dense)        (None, 64)                8256      \n",
      "_________________________________________________________________\n",
      "hidden_layer6 (Dense)        (None, 32)                2080      \n",
      "_________________________________________________________________\n",
      "hidden_layer7 (Dense)        (None, 16)                528       \n",
      "_________________________________________________________________\n",
      "output (Dense)               (None, 10)                170       \n",
      "=================================================================\n",
      "Total params: 3,846,810\n",
      "Trainable params: 3,846,810\n",
      "Non-trainable params: 0\n",
      "_________________________________________________________________\n"
     ]
    }
   ],
   "source": [
    "\"\"\"\n",
    "Your code here\n",
    "\"\"\"\n",
    "def build_mlp(input_shape, output_units=10, num_neurons=[1024 ,512, 256, 128, 64, 32, 16]):\n",
    "    input_layer = keras.layers.Input(input_shape)\n",
    "    \n",
    "    for i, n_units in enumerate(num_neurons):\n",
    "        if i == 0:\n",
    "            x = keras.layers.Dense(units=n_units, activation=\"relu\", name=\"hidden_layer\"+str(i+1))(input_layer)\n",
    "        else:\n",
    "            x = keras.layers.Dense(units=n_units, activation=\"relu\", name=\"hidden_layer\"+str(i+1))(x)\n",
    "    \n",
    "    out = keras.layers.Dense(units=output_units, activation=\"softmax\", name=\"output\")(x)\n",
    "    \n",
    "    model = keras.models.Model(inputs=[input_layer], outputs=[out])\n",
    "    return model\n",
    "model = build_mlp(input_shape=x_train.shape[1:])\n",
    "model.summary()"
   ]
  },
  {
   "cell_type": "code",
   "execution_count": 8,
   "metadata": {},
   "outputs": [],
   "source": [
    "## 超參數設定\n",
    "LEARNING_RATE = 0.001\n",
    "EPOCHS = 100\n",
    "BATCH_SIZE = 256"
   ]
  },
  {
   "cell_type": "code",
   "execution_count": 9,
   "metadata": {},
   "outputs": [],
   "source": [
    "optimizer = keras.optimizers.Adam(lr=LEARNING_RATE)\n",
    "model.compile(loss=\"categorical_crossentropy\", metrics=[\"accuracy\"], optimizer=optimizer)"
   ]
  },
  {
   "cell_type": "code",
   "execution_count": 10,
   "metadata": {},
   "outputs": [
    {
     "name": "stdout",
     "output_type": "stream",
     "text": [
      "Train on 50000 samples, validate on 10000 samples\n",
      "Epoch 1/100\n",
      "50000/50000 [==============================] - 13s 264us/step - loss: 1.8190 - acc: 0.3445 - val_loss: 1.6336 - val_acc: 0.4257\n",
      "Epoch 2/100\n",
      "50000/50000 [==============================] - 13s 251us/step - loss: 1.5497 - acc: 0.4555 - val_loss: 1.4949 - val_acc: 0.4757\n",
      "Epoch 3/100\n",
      "50000/50000 [==============================] - 13s 252us/step - loss: 1.3980 - acc: 0.5126 - val_loss: 1.4135 - val_acc: 0.5060\n",
      "Epoch 4/100\n",
      "50000/50000 [==============================] - 13s 252us/step - loss: 1.2798 - acc: 0.5512 - val_loss: 1.3986 - val_acc: 0.5099\n",
      "Epoch 5/100\n",
      "50000/50000 [==============================] - 13s 252us/step - loss: 1.1909 - acc: 0.5818 - val_loss: 1.3216 - val_acc: 0.5395\n",
      "Epoch 6/100\n",
      "50000/50000 [==============================] - 13s 254us/step - loss: 1.0899 - acc: 0.6176 - val_loss: 1.3598 - val_acc: 0.5329\n",
      "Epoch 7/100\n",
      "50000/50000 [==============================] - 13s 256us/step - loss: 0.9982 - acc: 0.6509 - val_loss: 1.3796 - val_acc: 0.5399\n",
      "Epoch 8/100\n",
      "50000/50000 [==============================] - 13s 258us/step - loss: 0.9110 - acc: 0.6769 - val_loss: 1.4235 - val_acc: 0.5368\n",
      "Epoch 9/100\n",
      "50000/50000 [==============================] - 13s 255us/step - loss: 0.8313 - acc: 0.7071 - val_loss: 1.3934 - val_acc: 0.5499\n",
      "Epoch 10/100\n",
      "50000/50000 [==============================] - 13s 258us/step - loss: 0.7435 - acc: 0.7385 - val_loss: 1.4367 - val_acc: 0.5594\n",
      "Epoch 11/100\n",
      "50000/50000 [==============================] - 13s 256us/step - loss: 0.6667 - acc: 0.7655 - val_loss: 1.5239 - val_acc: 0.5551\n",
      "Epoch 12/100\n",
      "50000/50000 [==============================] - 13s 263us/step - loss: 0.5905 - acc: 0.7924 - val_loss: 1.6888 - val_acc: 0.5459\n",
      "Epoch 13/100\n",
      "50000/50000 [==============================] - 13s 254us/step - loss: 0.5267 - acc: 0.8139 - val_loss: 1.7538 - val_acc: 0.5462\n",
      "Epoch 14/100\n",
      "50000/50000 [==============================] - 13s 255us/step - loss: 0.4670 - acc: 0.8362 - val_loss: 1.7907 - val_acc: 0.5445\n",
      "Epoch 15/100\n",
      "50000/50000 [==============================] - 13s 256us/step - loss: 0.4206 - acc: 0.8550 - val_loss: 1.8965 - val_acc: 0.5535\n",
      "Epoch 16/100\n",
      "50000/50000 [==============================] - 13s 259us/step - loss: 0.3643 - acc: 0.8735 - val_loss: 2.0023 - val_acc: 0.5504\n",
      "Epoch 17/100\n",
      "50000/50000 [==============================] - 13s 261us/step - loss: 0.3364 - acc: 0.8827 - val_loss: 2.1785 - val_acc: 0.5417\n",
      "Epoch 18/100\n",
      "50000/50000 [==============================] - 13s 256us/step - loss: 0.2967 - acc: 0.8974 - val_loss: 2.1145 - val_acc: 0.5519\n",
      "Epoch 19/100\n",
      "50000/50000 [==============================] - 13s 256us/step - loss: 0.2709 - acc: 0.9059 - val_loss: 2.3381 - val_acc: 0.5401\n",
      "Epoch 20/100\n",
      "50000/50000 [==============================] - 13s 256us/step - loss: 0.2461 - acc: 0.9158 - val_loss: 2.3953 - val_acc: 0.5434\n",
      "Epoch 21/100\n",
      "50000/50000 [==============================] - 13s 255us/step - loss: 0.2338 - acc: 0.9210 - val_loss: 2.4842 - val_acc: 0.5362\n",
      "Epoch 22/100\n",
      "50000/50000 [==============================] - 13s 266us/step - loss: 0.2163 - acc: 0.9250 - val_loss: 2.6043 - val_acc: 0.5424\n",
      "Epoch 23/100\n",
      "50000/50000 [==============================] - 13s 264us/step - loss: 0.2069 - acc: 0.9298 - val_loss: 2.6399 - val_acc: 0.5392\n",
      "Epoch 24/100\n",
      "50000/50000 [==============================] - 13s 256us/step - loss: 0.1817 - acc: 0.9388 - val_loss: 2.7732 - val_acc: 0.5385\n",
      "Epoch 25/100\n",
      "50000/50000 [==============================] - 13s 261us/step - loss: 0.1879 - acc: 0.9367 - val_loss: 2.7536 - val_acc: 0.5428\n",
      "Epoch 26/100\n",
      "50000/50000 [==============================] - 13s 260us/step - loss: 0.1671 - acc: 0.9431 - val_loss: 2.7231 - val_acc: 0.5435\n",
      "Epoch 27/100\n",
      "50000/50000 [==============================] - 13s 255us/step - loss: 0.1496 - acc: 0.9498 - val_loss: 2.8803 - val_acc: 0.5500\n",
      "Epoch 28/100\n",
      "50000/50000 [==============================] - 13s 253us/step - loss: 0.1539 - acc: 0.9484 - val_loss: 2.8753 - val_acc: 0.5443\n",
      "Epoch 29/100\n",
      "50000/50000 [==============================] - 13s 256us/step - loss: 0.1494 - acc: 0.9492 - val_loss: 3.0309 - val_acc: 0.5413\n",
      "Epoch 30/100\n",
      "50000/50000 [==============================] - 13s 256us/step - loss: 0.1446 - acc: 0.9514 - val_loss: 3.0699 - val_acc: 0.5451\n",
      "Epoch 31/100\n",
      "50000/50000 [==============================] - 13s 256us/step - loss: 0.1297 - acc: 0.9574 - val_loss: 2.9650 - val_acc: 0.5461\n",
      "Epoch 32/100\n",
      "50000/50000 [==============================] - 13s 254us/step - loss: 0.1351 - acc: 0.9549 - val_loss: 3.0455 - val_acc: 0.5402\n",
      "Epoch 33/100\n",
      "50000/50000 [==============================] - 13s 255us/step - loss: 0.1275 - acc: 0.9576 - val_loss: 2.9339 - val_acc: 0.5484\n",
      "Epoch 34/100\n",
      "50000/50000 [==============================] - 13s 255us/step - loss: 0.1300 - acc: 0.9569 - val_loss: 3.0845 - val_acc: 0.5537\n",
      "Epoch 35/100\n",
      "50000/50000 [==============================] - 13s 254us/step - loss: 0.1219 - acc: 0.9595 - val_loss: 3.0962 - val_acc: 0.5514\n",
      "Epoch 36/100\n",
      "50000/50000 [==============================] - 13s 258us/step - loss: 0.1065 - acc: 0.9655 - val_loss: 3.2503 - val_acc: 0.5505\n",
      "Epoch 37/100\n",
      "50000/50000 [==============================] - 13s 260us/step - loss: 0.1269 - acc: 0.9589 - val_loss: 3.1133 - val_acc: 0.5389\n",
      "Epoch 38/100\n",
      "50000/50000 [==============================] - 13s 254us/step - loss: 0.1003 - acc: 0.9663 - val_loss: 3.2855 - val_acc: 0.5539\n",
      "Epoch 39/100\n",
      "50000/50000 [==============================] - 13s 257us/step - loss: 0.0967 - acc: 0.9673 - val_loss: 3.1640 - val_acc: 0.5484\n",
      "Epoch 40/100\n",
      "50000/50000 [==============================] - 13s 259us/step - loss: 0.0991 - acc: 0.9678 - val_loss: 3.0850 - val_acc: 0.5502\n",
      "Epoch 41/100\n",
      "50000/50000 [==============================] - 13s 255us/step - loss: 0.0921 - acc: 0.9697 - val_loss: 3.2023 - val_acc: 0.5366\n",
      "Epoch 42/100\n",
      "50000/50000 [==============================] - 13s 253us/step - loss: 0.1110 - acc: 0.9638 - val_loss: 3.1605 - val_acc: 0.5478\n",
      "Epoch 43/100\n",
      "50000/50000 [==============================] - 13s 254us/step - loss: 0.0831 - acc: 0.9731 - val_loss: 3.4440 - val_acc: 0.5377\n",
      "Epoch 44/100\n",
      "50000/50000 [==============================] - 13s 257us/step - loss: 0.0885 - acc: 0.9711 - val_loss: 3.2292 - val_acc: 0.5527\n",
      "Epoch 45/100\n",
      "50000/50000 [==============================] - 13s 256us/step - loss: 0.1062 - acc: 0.9664 - val_loss: 2.9641 - val_acc: 0.5447\n",
      "Epoch 46/100\n",
      "50000/50000 [==============================] - 13s 256us/step - loss: 0.0849 - acc: 0.9721 - val_loss: 3.3059 - val_acc: 0.5496\n",
      "Epoch 47/100\n",
      "50000/50000 [==============================] - 13s 262us/step - loss: 0.0774 - acc: 0.9753 - val_loss: 3.3459 - val_acc: 0.5435\n",
      "Epoch 48/100\n",
      "50000/50000 [==============================] - 13s 258us/step - loss: 0.0837 - acc: 0.9731 - val_loss: 3.3487 - val_acc: 0.5491\n",
      "Epoch 49/100\n",
      "50000/50000 [==============================] - 13s 257us/step - loss: 0.0903 - acc: 0.9713 - val_loss: 3.3170 - val_acc: 0.5402\n",
      "Epoch 50/100\n",
      "50000/50000 [==============================] - 13s 258us/step - loss: 0.0847 - acc: 0.9719 - val_loss: 3.3045 - val_acc: 0.5344\n",
      "Epoch 51/100\n",
      "50000/50000 [==============================] - 13s 255us/step - loss: 0.0785 - acc: 0.9742 - val_loss: 3.3054 - val_acc: 0.5526\n",
      "Epoch 52/100\n",
      "50000/50000 [==============================] - 13s 253us/step - loss: 0.0738 - acc: 0.9757 - val_loss: 3.3580 - val_acc: 0.5403\n",
      "Epoch 53/100\n",
      "50000/50000 [==============================] - 13s 255us/step - loss: 0.0873 - acc: 0.9722 - val_loss: 3.3481 - val_acc: 0.5531\n",
      "Epoch 54/100\n",
      "50000/50000 [==============================] - 13s 253us/step - loss: 0.0493 - acc: 0.9839 - val_loss: 3.4578 - val_acc: 0.5413\n",
      "Epoch 55/100\n",
      "50000/50000 [==============================] - 13s 254us/step - loss: 0.0748 - acc: 0.9755 - val_loss: 3.3714 - val_acc: 0.5484\n",
      "Epoch 56/100\n",
      "50000/50000 [==============================] - 13s 255us/step - loss: 0.0791 - acc: 0.9749 - val_loss: 3.4678 - val_acc: 0.5474\n",
      "Epoch 57/100\n",
      "50000/50000 [==============================] - 13s 258us/step - loss: 0.0773 - acc: 0.9755 - val_loss: 3.2535 - val_acc: 0.5488\n",
      "Epoch 58/100\n",
      "50000/50000 [==============================] - 13s 254us/step - loss: 0.0627 - acc: 0.9799 - val_loss: 3.4341 - val_acc: 0.5469\n"
     ]
    },
    {
     "name": "stdout",
     "output_type": "stream",
     "text": [
      "Epoch 59/100\n",
      "50000/50000 [==============================] - 13s 258us/step - loss: 0.0759 - acc: 0.9762 - val_loss: 3.2534 - val_acc: 0.5444\n",
      "Epoch 60/100\n",
      "50000/50000 [==============================] - 13s 263us/step - loss: 0.0722 - acc: 0.9773 - val_loss: 3.3067 - val_acc: 0.5455\n",
      "Epoch 61/100\n",
      "50000/50000 [==============================] - 13s 258us/step - loss: 0.0666 - acc: 0.9794 - val_loss: 3.2854 - val_acc: 0.5441\n",
      "Epoch 62/100\n",
      "50000/50000 [==============================] - 13s 258us/step - loss: 0.0733 - acc: 0.9773 - val_loss: 3.2788 - val_acc: 0.5434\n",
      "Epoch 63/100\n",
      "50000/50000 [==============================] - 13s 254us/step - loss: 0.0541 - acc: 0.9831 - val_loss: 3.5434 - val_acc: 0.5463\n",
      "Epoch 64/100\n",
      "50000/50000 [==============================] - 13s 255us/step - loss: 0.0680 - acc: 0.9778 - val_loss: 3.2709 - val_acc: 0.5491\n",
      "Epoch 65/100\n",
      "50000/50000 [==============================] - 13s 256us/step - loss: 0.0558 - acc: 0.9816 - val_loss: 3.4755 - val_acc: 0.5447\n",
      "Epoch 66/100\n",
      "50000/50000 [==============================] - 13s 256us/step - loss: 0.0718 - acc: 0.9771 - val_loss: 3.3641 - val_acc: 0.5442\n",
      "Epoch 67/100\n",
      "50000/50000 [==============================] - 13s 258us/step - loss: 0.0592 - acc: 0.9810 - val_loss: 3.4291 - val_acc: 0.5432\n",
      "Epoch 68/100\n",
      "50000/50000 [==============================] - 13s 256us/step - loss: 0.0775 - acc: 0.9758 - val_loss: 3.3838 - val_acc: 0.5471\n",
      "Epoch 69/100\n",
      "50000/50000 [==============================] - 13s 260us/step - loss: 0.0529 - acc: 0.9832 - val_loss: 3.4425 - val_acc: 0.5453\n",
      "Epoch 70/100\n",
      "50000/50000 [==============================] - 13s 260us/step - loss: 0.0605 - acc: 0.9812 - val_loss: 3.5085 - val_acc: 0.5411\n",
      "Epoch 71/100\n",
      "50000/50000 [==============================] - 13s 263us/step - loss: 0.0627 - acc: 0.9800 - val_loss: 3.2620 - val_acc: 0.5465\n",
      "Epoch 72/100\n",
      "50000/50000 [==============================] - 13s 260us/step - loss: 0.0589 - acc: 0.9810 - val_loss: 3.4297 - val_acc: 0.5437\n",
      "Epoch 73/100\n",
      "50000/50000 [==============================] - 13s 261us/step - loss: 0.0470 - acc: 0.9853 - val_loss: 3.4275 - val_acc: 0.5498\n",
      "Epoch 74/100\n",
      "50000/50000 [==============================] - 14s 271us/step - loss: 0.0684 - acc: 0.9783 - val_loss: 3.1828 - val_acc: 0.5496\n",
      "Epoch 75/100\n",
      "50000/50000 [==============================] - 13s 253us/step - loss: 0.0552 - acc: 0.9832 - val_loss: 3.4725 - val_acc: 0.5532\n",
      "Epoch 76/100\n",
      "50000/50000 [==============================] - 13s 256us/step - loss: 0.0591 - acc: 0.9814 - val_loss: 3.3840 - val_acc: 0.5397\n",
      "Epoch 77/100\n",
      "50000/50000 [==============================] - 13s 256us/step - loss: 0.0560 - acc: 0.9822 - val_loss: 3.4353 - val_acc: 0.5455\n",
      "Epoch 78/100\n",
      "50000/50000 [==============================] - 13s 257us/step - loss: 0.0560 - acc: 0.9822 - val_loss: 3.3920 - val_acc: 0.5443\n",
      "Epoch 79/100\n",
      "50000/50000 [==============================] - 13s 260us/step - loss: 0.0629 - acc: 0.9803 - val_loss: 3.3652 - val_acc: 0.5527\n",
      "Epoch 80/100\n",
      "50000/50000 [==============================] - 13s 255us/step - loss: 0.0433 - acc: 0.9869 - val_loss: 3.3704 - val_acc: 0.5533\n",
      "Epoch 81/100\n",
      "50000/50000 [==============================] - 13s 252us/step - loss: 0.0497 - acc: 0.9845 - val_loss: 3.5439 - val_acc: 0.5432\n",
      "Epoch 82/100\n",
      "50000/50000 [==============================] - 13s 253us/step - loss: 0.0575 - acc: 0.9823 - val_loss: 3.4113 - val_acc: 0.5505\n",
      "Epoch 83/100\n",
      "50000/50000 [==============================] - 13s 262us/step - loss: 0.0502 - acc: 0.9845 - val_loss: 3.4175 - val_acc: 0.5495\n",
      "Epoch 84/100\n",
      "50000/50000 [==============================] - 13s 259us/step - loss: 0.0519 - acc: 0.9840 - val_loss: 3.2846 - val_acc: 0.5488\n",
      "Epoch 85/100\n",
      "50000/50000 [==============================] - 13s 259us/step - loss: 0.0530 - acc: 0.9838 - val_loss: 3.3910 - val_acc: 0.5508\n",
      "Epoch 86/100\n",
      "50000/50000 [==============================] - 13s 259us/step - loss: 0.0298 - acc: 0.9907 - val_loss: 3.6092 - val_acc: 0.5477\n",
      "Epoch 87/100\n",
      "50000/50000 [==============================] - 13s 268us/step - loss: 0.0630 - acc: 0.9800 - val_loss: 3.4503 - val_acc: 0.5538\n",
      "Epoch 88/100\n",
      "50000/50000 [==============================] - 13s 255us/step - loss: 0.0545 - acc: 0.9835 - val_loss: 3.3810 - val_acc: 0.5495\n",
      "Epoch 89/100\n",
      "50000/50000 [==============================] - 13s 255us/step - loss: 0.0636 - acc: 0.9806 - val_loss: 3.1263 - val_acc: 0.5463\n",
      "Epoch 90/100\n",
      "50000/50000 [==============================] - 13s 257us/step - loss: 0.0369 - acc: 0.9887 - val_loss: 3.5177 - val_acc: 0.5454\n",
      "Epoch 91/100\n",
      "50000/50000 [==============================] - 13s 253us/step - loss: 0.0359 - acc: 0.9890 - val_loss: 3.4781 - val_acc: 0.5485\n",
      "Epoch 92/100\n",
      "50000/50000 [==============================] - 13s 257us/step - loss: 0.0538 - acc: 0.9830 - val_loss: 3.4948 - val_acc: 0.5464\n",
      "Epoch 93/100\n",
      "50000/50000 [==============================] - 13s 260us/step - loss: 0.0558 - acc: 0.9825 - val_loss: 3.3352 - val_acc: 0.5435\n",
      "Epoch 94/100\n",
      "50000/50000 [==============================] - 13s 259us/step - loss: 0.0365 - acc: 0.9885 - val_loss: 3.5342 - val_acc: 0.5568\n",
      "Epoch 95/100\n",
      "50000/50000 [==============================] - 13s 255us/step - loss: 0.0488 - acc: 0.9850 - val_loss: 3.3513 - val_acc: 0.5478\n",
      "Epoch 96/100\n",
      "50000/50000 [==============================] - 13s 259us/step - loss: 0.0385 - acc: 0.9876 - val_loss: 3.5805 - val_acc: 0.5481\n",
      "Epoch 97/100\n",
      "50000/50000 [==============================] - 13s 256us/step - loss: 0.0554 - acc: 0.9825 - val_loss: 3.3833 - val_acc: 0.5472\n",
      "Epoch 98/100\n",
      "50000/50000 [==============================] - 13s 255us/step - loss: 0.0494 - acc: 0.9850 - val_loss: 3.3174 - val_acc: 0.5505\n",
      "Epoch 99/100\n",
      "50000/50000 [==============================] - 13s 257us/step - loss: 0.0470 - acc: 0.9854 - val_loss: 3.3420 - val_acc: 0.5498\n",
      "Epoch 100/100\n",
      "50000/50000 [==============================] - 13s 257us/step - loss: 0.0376 - acc: 0.9889 - val_loss: 3.5261 - val_acc: 0.5595\n"
     ]
    },
    {
     "data": {
      "text/plain": [
       "<keras.callbacks.History at 0x126108860>"
      ]
     },
     "execution_count": 10,
     "metadata": {},
     "output_type": "execute_result"
    }
   ],
   "source": [
    "model.fit(x_train, y_train, \n",
    "          epochs=EPOCHS, \n",
    "          batch_size=BATCH_SIZE, \n",
    "          validation_data=(x_test, y_test), \n",
    "          shuffle=True)"
   ]
  },
  {
   "cell_type": "code",
   "execution_count": 12,
   "metadata": {},
   "outputs": [
    {
     "data": {
      "image/png": "[encoded data removed]",
      "text/plain": [
       "<Figure size 432x288 with 1 Axes>"
      ]
     },
     "metadata": {
      "needs_background": "light"
     },
     "output_type": "display_data"
    },
    {
     "data": {
      "image/png": "[encoded data removed]",
      "text/plain": [
       "<Figure size 432x288 with 1 Axes>"
      ]
     },
     "metadata": {
      "needs_background": "light"
     },
     "output_type": "display_data"
    }
   ],
   "source": [
    "import matplotlib.pyplot as plt\n",
    "\n",
    "\n",
    "train_loss = model.history.history[\"loss\"]\n",
    "valid_loss = model.history.history[\"val_loss\"]\n",
    "\n",
    "train_acc = model.history.history[\"acc\"]\n",
    "valid_acc = model.history.history[\"val_acc\"]\n",
    "\n",
    "plt.plot(range(len(train_loss)), train_loss, label=\"train loss\")\n",
    "plt.plot(range(len(valid_loss)), valid_loss, label=\"valid loss\")\n",
    "plt.legend()\n",
    "plt.title(\"Loss\")\n",
    "plt.show()\n",
    "\n",
    "plt.plot(range(len(train_acc)), train_acc, label=\"train accuracy\")\n",
    "plt.plot(range(len(valid_acc)), valid_acc, label=\"valid accuracy\")\n",
    "plt.legend()\n",
    "plt.title(\"Accuracy\")\n",
    "plt.show()"
   ]
  },
  {
   "cell_type": "code",
   "execution_count": null,
   "metadata": {},
   "outputs": [],
   "source": []
  }
 ],
 "metadata": {
  "kernelspec": {
   "display_name": "Python 3",
   "language": "python",
   "name": "python3"
  },
  "language_info": {
   "codemirror_mode": {
    "name": "ipython",
    "version": 3
   },
   "file_extension": ".py",
   "mimetype": "text/x-python",
   "name": "python",
   "nbconvert_exporter": "python",
   "pygments_lexer": "ipython3",
   "version": "3.6.7rc2"
  }
 },
 "nbformat": 4,
 "nbformat_minor": 2
}
